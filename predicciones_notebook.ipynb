{
 "cells": [
  {
   "cell_type": "code",
   "execution_count": 17,
   "metadata": {},
   "outputs": [],
   "source": [
    "# Importación librerías\n",
    "import pandas as pd\n",
    "import numpy as np\n",
    "from pycaret.regression import *\n",
    "from pycaret.time_series import *\n",
    "from prophet import Prophet\n",
    "from sklearn import *\n",
    "from sklearn.ensemble import *\n",
    "import json\n",
    "from pycaret.containers.models.time_series import BaseCdsDtForecaster\n",
    "from sktime.transformations.series.summarize import WindowSummarizer\n",
    "from sktime.forecasting.croston import Croston\n",
    "from lightgbm import LGBMRegressor\n",
    "from sktime.forecasting.arima import ARIMA, AutoARIMA\n",
    "from scipy.stats import uniform\n",
    "from mango import Tuner\n",
    "from sktime.forecasting.base import ForecastingHorizon\n"
   ]
  },
  {
   "cell_type": "code",
   "execution_count": 18,
   "metadata": {},
   "outputs": [],
   "source": [
    "# Lectura de datos\n",
    "df = pd.read_excel(\"reporte_diario_campaña_limpio.xlsx\").drop(columns='Unnamed: 0')\n",
    "festivos=pd.read_excel(\"prophet_festivos.xlsx\")\n",
    "entrenamiento_calls = pd.read_excel(\"validacion_diaria_calls.xlsx\").drop(columns='Unnamed: 0')\n",
    "entrenamiento_aht = pd.read_excel(\"validacion_diaria_aht.xlsx\").drop(columns='Unnamed: 0')\n",
    "with open('diccionario_calls.txt', 'r') as file:\n",
    "    contenido = file.read()\n",
    "diccionario_calls = json.loads(contenido)\n",
    "for key in diccionario_calls:\n",
    "    diccionario_calls[key] = eval(diccionario_calls[key])\n",
    "with open('diccionario_aht.txt', 'r') as file:\n",
    "    contenido = file.read()\n",
    "diccionario_aht = json.loads(contenido)\n",
    "for key in diccionario_aht:\n",
    "    diccionario_aht[key] = eval(diccionario_aht[key])\n"
   ]
  },
  {
   "cell_type": "code",
   "execution_count": 19,
   "metadata": {},
   "outputs": [],
   "source": [
    "# Definición error \n",
    "def wape(y,y_pred,**kwargs):\n",
    "    wape = np.sum(np.abs(y - y_pred)) / np.sum(y)\n",
    "    return wape"
   ]
  },
  {
   "cell_type": "code",
   "execution_count": 21,
   "metadata": {},
   "outputs": [],
   "source": [
    "def nuevas_predicciones(mejor_modelo, df,linea,target,diccionario,festivos):\n",
    "    datos = df[df[\"linea\"]== linea]\n",
    "    datos_prophet = datos[[\"fecha\", target]].rename(columns={\"fecha\": 'ds', target: 'y'})\n",
    "    state_holidays = datos[datos['state_holiday'] == 1][\"fecha\"].unique()\n",
    "    state_holidays = pd.DataFrame({'ds': pd.to_datetime(state_holidays), 'holiday': 'state_holiday'})\n",
    "    n_fecha = (pd.Timestamp('2024-12-31') - pd.to_datetime(df[\"fecha\"]).max()).days\n",
    "    nuevos_periodos = pd.DataFrame({\n",
    "        \"fecha\": pd.date_range(start=df[\"fecha\"].max(), periods=n_fecha + 1, freq='D')\n",
    "    })\n",
    "\n",
    "    nuevos_periodos[\"año\"] = nuevos_periodos[\"fecha\"].dt.year\n",
    "    nuevos_periodos[\"mes\"] = nuevos_periodos[\"fecha\"].dt.month\n",
    "    nuevos_periodos[\"dia\"] = nuevos_periodos[\"fecha\"].dt.day\n",
    "    nuevos_periodos[\"dia_semana\"] = nuevos_periodos[\"fecha\"].dt.weekday\n",
    "\n",
    "\n",
    "    fes_filtrado = festivos[[\"fecha\", \"state_holiday\"]]\n",
    "    nuevos_periodos = pd.merge(nuevos_periodos, fes_filtrado, how=\"left\", on=\"fecha\")\n",
    "    nuevos_periodos[\"state_holiday\"].fillna(0, inplace=True)\n",
    "    nuevos_periodos.loc[nuevos_periodos['state_holiday'] == 1, 'dia_semana'] = 7\n",
    "\n",
    "    nuevos_periodos=nuevos_periodos.set_index(pd.RangeIndex(start=datos.index[-1], stop=datos.index[-1]+len(nuevos_periodos), step=1))[[\"año\",\"mes\",\"dia\",\"dia_semana\",'state_holiday']]\n",
    "\n",
    "\n",
    "    nuevos_periodos = nuevos_periodos.sort_values(by=[\"año\", \"mes\", \"dia\", \"dia_semana\"]).reset_index(drop=True)\n",
    "    \n",
    "\n",
    "    if mejor_modelo == \"reg\":\n",
    "        modelo_dic= diccionario[linea][\"pycaret_reg\"]\n",
    "        modelo =modelo_dic[\"modelo\"].set_params(**modelo_dic[\"parametros\"])\n",
    "        X, Y= datos[['año', 'mes', \"dia\", 'dia_semana', 'state_holiday']],datos[target]\n",
    "        pred = modelo.fit(X, Y).predict(nuevos_periodos)\n",
    "        nuevos_periodos[\"prediccion\"]=pred\n",
    "    \n",
    "    elif mejor_modelo ==\"ts\":\n",
    "        modelo_dic= diccionario_calls[\"linea_1\"][\"pycaret_ts\"]\n",
    "        modelo =modelo_dic[\"modelo\"].set_params(**modelo_dic[\"parametros\"])\n",
    "        X, Y= datos[['año', 'mes', \"dia\", 'dia_semana', 'state_holiday']],datos[target]\n",
    "        if'ARIMA' in str(type(modelo_dic[\"modelo\"])):\n",
    "            fh = ForecastingHorizon(range(1, len(nuevos_periodos)+1))\n",
    "            pred = modelo.fit(X = X, y = Y).predict(fh =fh,X =nuevos_periodos)\n",
    "        else:\n",
    "            pred = modelo.fit(X = X, y = Y).predict(X =nuevos_periodos)\n",
    "        \n",
    "        nuevos_periodos[\"prediccion\"]=pred\n",
    "\n",
    "    elif mejor_modelo== \"promedio_reg_ts\":\n",
    "        modelo_dic_reg= diccionario[linea][\"pycaret_reg\"]\n",
    "        modelo_reg =modelo_dic_reg[\"modelo\"].set_params(**modelo_dic_reg[\"parametros\"])\n",
    "        X, Y= datos[['año', 'mes', \"dia\", 'dia_semana', 'state_holiday']],datos[target]\n",
    "        pred_reg = modelo_reg.fit(X, Y).predict(nuevos_periodos)\n",
    "\n",
    "        modelo_dic_ts= diccionario_calls[\"linea_1\"][\"pycaret_ts\"]\n",
    "        modelo_ts =modelo_dic_ts[\"modelo\"].set_params(**modelo_dic_ts[\"parametros\"])\n",
    "        if'ARIMA' in str(type(modelo_dic_ts[\"modelo\"])):\n",
    "            fh = ForecastingHorizon(range(1, len(nuevos_periodos)+1))\n",
    "            pred_ts = modelo_ts.fit(X = X, y = Y).predict(fh =fh,X =nuevos_periodos)\n",
    "        else:\n",
    "            pred_ts = modelo_ts.fit(X = X, y = Y).predict(X =nuevos_periodos)\n",
    "\n",
    "        nuevos_periodos[\"prediccion\"]=(pred_reg + pred_ts)/2\n",
    "\n",
    "    elif mejor_modelo == \"fb\":\n",
    "        prophet_params= diccionario_calls[\"linea_1\"][\"prophet\"]\n",
    "        model = Prophet(holidays=festivos, **prophet_params)\n",
    "        model.fit(datos_prophet)\n",
    "        future = model.make_future_dataframe(periods=len(nuevos_periodos), freq='D')\n",
    "        forecast = model.predict(future)\n",
    "        nuevos_periodos[\"prediccion\"]=forecast[\"yhat\"][-len(nuevos_periodos):]\n",
    "    \n",
    "                \n",
    "    if(linea == \"lines_3\"): \n",
    "        nuevos_periodos.loc[nuevos_periodos['dia_semana'] == 6, 'prediccion'] = 0\n",
    "        \n",
    "        \n",
    "    nuevos_periodos[\"linea\"]=linea\n",
    "\n",
    "    return nuevos_periodos\n",
    "    "
   ]
  },
  {
   "cell_type": "markdown",
   "metadata": {},
   "source": [
    "## Calls"
   ]
  },
  {
   "cell_type": "code",
   "execution_count": 22,
   "metadata": {},
   "outputs": [
    {
     "name": "stdout",
     "output_type": "stream",
     "text": [
      "linea_1\n",
      "linea_2\n",
      "linea_3\n",
      "linea_4\n",
      "linea_5\n"
     ]
    }
   ],
   "source": [
    "lineas = entrenamiento_calls['linea'].unique()\n",
    "wape_metrics_calls = {}\n",
    "pred_calls=pd.DataFrame()\n",
    "\n",
    "for linea in lineas:\n",
    "    print(linea)\n",
    "    df_linea = entrenamiento_calls[entrenamiento_calls['linea'] == linea]\n",
    "    y_true = df_linea['interpolado_real_calls']\n",
    "    pred_columns = ['pred_ts', 'pred_regr', 'pred_promedio', 'pred_fb', 'pred_promedio_mov']\n",
    "\n",
    "    wape_metrics_calls[linea] = {col: round(wape(y_true, df_linea[col]),2) for col in pred_columns}\n",
    "    mejor_modelo = min(wape_metrics_calls[linea], key=wape_metrics_calls[linea].get)\n",
    "    predicciones_calls=nuevas_predicciones(mejor_modelo, df,linea,\"interpolado_real_calls\",diccionario_calls,festivos)\n",
    "    pred_calls=pd.concat([pred_calls,predicciones_calls])"
   ]
  },
  {
   "cell_type": "code",
   "execution_count": 23,
   "metadata": {},
   "outputs": [],
   "source": [
    "pred_calls.to_excel(\"prediccion_calls.xlsx\")"
   ]
  },
  {
   "cell_type": "code",
   "execution_count": 24,
   "metadata": {},
   "outputs": [
    {
     "name": "stdout",
     "output_type": "stream",
     "text": [
      "linea_1\n",
      "linea_2\n",
      "linea_3\n",
      "linea_4\n",
      "linea_5\n"
     ]
    }
   ],
   "source": [
    "lineas = entrenamiento_aht['linea'].unique()\n",
    "wape_metrics_aht = {}\n",
    "pred_aht=pd.DataFrame()\n",
    "\n",
    "for linea in lineas:\n",
    "    print(linea)\n",
    "    df_linea = entrenamiento_aht[entrenamiento_aht['linea'] == linea]\n",
    "    y_true = df_linea['interpolado_real_aht']\n",
    "    pred_columns = ['pred_ts', 'pred_regr', 'pred_promedio', 'pred_fb', 'pred_promedio_mov']\n",
    "\n",
    "    wape_metrics_aht[linea] = {col: round(wape(y_true, df_linea[col]),2) for col in pred_columns}\n",
    "    mejor_modelo = min(wape_metrics_aht[linea], key=wape_metrics_aht[linea].get)\n",
    "    predicciones_aht= nuevas_predicciones(mejor_modelo,df,linea,\"interpolado_real_aht\",diccionario_aht,festivos)\n",
    "    pred_aht=pd.concat([pred_aht,predicciones_aht])"
   ]
  },
  {
   "cell_type": "code",
   "execution_count": 25,
   "metadata": {},
   "outputs": [
    {
     "data": {
      "text/html": [
       "<div>\n",
       "<style scoped>\n",
       "    .dataframe tbody tr th:only-of-type {\n",
       "        vertical-align: middle;\n",
       "    }\n",
       "\n",
       "    .dataframe tbody tr th {\n",
       "        vertical-align: top;\n",
       "    }\n",
       "\n",
       "    .dataframe thead th {\n",
       "        text-align: right;\n",
       "    }\n",
       "</style>\n",
       "<table border=\"1\" class=\"dataframe\">\n",
       "  <thead>\n",
       "    <tr style=\"text-align: right;\">\n",
       "      <th></th>\n",
       "      <th>año</th>\n",
       "      <th>mes</th>\n",
       "      <th>dia</th>\n",
       "      <th>dia_semana</th>\n",
       "      <th>state_holiday</th>\n",
       "      <th>prediccion</th>\n",
       "      <th>linea</th>\n",
       "    </tr>\n",
       "  </thead>\n",
       "  <tbody>\n",
       "    <tr>\n",
       "      <th>0</th>\n",
       "      <td>2024</td>\n",
       "      <td>4</td>\n",
       "      <td>7</td>\n",
       "      <td>6</td>\n",
       "      <td>0.0</td>\n",
       "      <td>267.4652</td>\n",
       "      <td>linea_1</td>\n",
       "    </tr>\n",
       "    <tr>\n",
       "      <th>1</th>\n",
       "      <td>2024</td>\n",
       "      <td>4</td>\n",
       "      <td>8</td>\n",
       "      <td>0</td>\n",
       "      <td>0.0</td>\n",
       "      <td>392.0078</td>\n",
       "      <td>linea_1</td>\n",
       "    </tr>\n",
       "    <tr>\n",
       "      <th>2</th>\n",
       "      <td>2024</td>\n",
       "      <td>4</td>\n",
       "      <td>9</td>\n",
       "      <td>1</td>\n",
       "      <td>0.0</td>\n",
       "      <td>387.7803</td>\n",
       "      <td>linea_1</td>\n",
       "    </tr>\n",
       "    <tr>\n",
       "      <th>3</th>\n",
       "      <td>2024</td>\n",
       "      <td>4</td>\n",
       "      <td>10</td>\n",
       "      <td>2</td>\n",
       "      <td>0.0</td>\n",
       "      <td>388.7924</td>\n",
       "      <td>linea_1</td>\n",
       "    </tr>\n",
       "    <tr>\n",
       "      <th>4</th>\n",
       "      <td>2024</td>\n",
       "      <td>4</td>\n",
       "      <td>11</td>\n",
       "      <td>3</td>\n",
       "      <td>0.0</td>\n",
       "      <td>380.5279</td>\n",
       "      <td>linea_1</td>\n",
       "    </tr>\n",
       "  </tbody>\n",
       "</table>\n",
       "</div>"
      ],
      "text/plain": [
       "    año  mes  dia  dia_semana  state_holiday  prediccion    linea\n",
       "0  2024    4    7           6            0.0    267.4652  linea_1\n",
       "1  2024    4    8           0            0.0    392.0078  linea_1\n",
       "2  2024    4    9           1            0.0    387.7803  linea_1\n",
       "3  2024    4   10           2            0.0    388.7924  linea_1\n",
       "4  2024    4   11           3            0.0    380.5279  linea_1"
      ]
     },
     "execution_count": 25,
     "metadata": {},
     "output_type": "execute_result"
    }
   ],
   "source": [
    "pred_aht.head()"
   ]
  },
  {
   "cell_type": "code",
   "execution_count": 26,
   "metadata": {},
   "outputs": [],
   "source": [
    "pred_aht.to_excel(\"prediccion_aht.xlsx\")"
   ]
  }
 ],
 "metadata": {
  "kernelspec": {
   "display_name": "tfm_venv",
   "language": "python",
   "name": "python3"
  },
  "language_info": {
   "codemirror_mode": {
    "name": "ipython",
    "version": 3
   },
   "file_extension": ".py",
   "mimetype": "text/x-python",
   "name": "python",
   "nbconvert_exporter": "python",
   "pygments_lexer": "ipython3",
   "version": "3.11.9"
  }
 },
 "nbformat": 4,
 "nbformat_minor": 2
}
