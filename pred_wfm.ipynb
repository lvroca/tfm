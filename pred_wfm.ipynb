{
 "cells": [
  {
   "cell_type": "code",
   "execution_count": 1,
   "metadata": {},
   "outputs": [],
   "source": [
    "# Importación librerías\n",
    "import pandas as pd\n",
    "import numpy as np"
   ]
  },
  {
   "cell_type": "code",
   "execution_count": 2,
   "metadata": {},
   "outputs": [],
   "source": [
    "# Lectura de datos\n",
    "df = pd.read_excel(\"reporte_diario_campaña_limpio.xlsx\").drop(columns='Unnamed: 0')\n"
   ]
  },
  {
   "cell_type": "code",
   "execution_count": 3,
   "metadata": {},
   "outputs": [],
   "source": [
    "def promedio_movil_val(dfs,target, linea):\n",
    "    datos = dfs[dfs[\"linea\"] == linea]\n",
    "    n_periodos=datos[datos['fecha'].dt.year == 2024].shape[0]\n",
    "    print(n_periodos)\n",
    "    datos = datos[['dia_semana',target]].dropna()\n",
    "    datos_entrenamiento = datos[:-n_periodos]\n",
    "    datos_prueba = datos[-n_periodos:]\n",
    "\n",
    "    reporte_diasemana_linea=datos_entrenamiento[[target,\"dia_semana\"]]\n",
    "    \n",
    "    datos_=datos_prueba[[\"dia_semana\"]][:n_periodos].values\n",
    "    \n",
    "    new_pre=[]\n",
    "    dia_semana=[]\n",
    "    for i in datos_:\n",
    "\n",
    "        temp=reporte_diasemana_linea[reporte_diasemana_linea[\"dia_semana\"]==i[0]][-7:][target]\n",
    "        if (len(temp.values)==7):\n",
    "            w=np.array([1,6,11,14,17,21,30])\n",
    "        elif (len(temp.values)==6):\n",
    "            w=np.array([7,11,14,17,21,30])\n",
    "        elif (len(temp.values)==5):\n",
    "            w=np.array([5,15,20,25,35])\n",
    "        elif (len(temp.values)==4):\n",
    "            w=np.array([16,21,26,37])\n",
    "        elif (len(temp.values)==3):\n",
    "            w=np.array([25,30,45])\n",
    "        elif (len(temp.values)==2):\n",
    "            w=np.array([30,70])\n",
    "        elif (len(temp.values)==1):\n",
    "            w=np.array([100])\n",
    "        new_pre.append(sum(temp.values*w/100))\n",
    "        dia_semana.append(i)\n",
    "\n",
    "    reporte_diasemana_linea=pd.concat([reporte_diasemana_linea,pd.DataFrame({\"dia_semana\":dia_semana,target:new_pre})])\n",
    "\n",
    "    return(reporte_diasemana_linea[target][-n_periodos:].values)\n"
   ]
  },
  {
   "cell_type": "code",
   "execution_count": 4,
   "metadata": {},
   "outputs": [
    {
     "name": "stdout",
     "output_type": "stream",
     "text": [
      "Procesando línea: linea_1\n",
      "98\n",
      "Procesando línea: linea_2\n",
      "98\n",
      "Procesando línea: linea_3\n",
      "98\n",
      "Procesando línea: linea_4\n",
      "98\n",
      "Procesando línea: linea_5\n",
      "96\n"
     ]
    }
   ],
   "source": [
    "validacion_calls = []\n",
    "lineas = df[\"linea\"].unique()\n",
    "for linea in lineas:\n",
    "    print(f\"Procesando línea: {linea}\")\n",
    "    val_wfm = promedio_movil_val(df, \"interpolado_real_calls\", linea)\n",
    "    \n",
    "    # Crear un DataFrame de la longitud específica de val_wfm\n",
    "    val_promedio_movil = pd.DataFrame(index=range(len(val_wfm)))\n",
    "    val_promedio_movil[\"val_wfm\"] = val_wfm\n",
    "    val_promedio_movil[\"linea\"] = linea\n",
    "    \n",
    "    validacion_calls.append(val_promedio_movil)"
   ]
  },
  {
   "cell_type": "code",
   "execution_count": 5,
   "metadata": {},
   "outputs": [],
   "source": [
    "validacion_wfm_calls = pd.concat(validacion_calls, ignore_index=True)\n",
    "val_calls = pd.read_excel(\"validacion_diaria_calls.xlsx\").drop(columns='Unnamed: 0')\n",
    "val_calls[\"pred_wfm\"] = validacion_wfm_calls[\"val_wfm\"]"
   ]
  },
  {
   "cell_type": "code",
   "execution_count": 6,
   "metadata": {},
   "outputs": [],
   "source": [
    "val_calls.to_excel(\"validacion_diaria_calls_wfm.xlsx\")\n"
   ]
  },
  {
   "cell_type": "code",
   "execution_count": 4,
   "metadata": {},
   "outputs": [
    {
     "name": "stdout",
     "output_type": "stream",
     "text": [
      "Procesando línea: linea_1\n",
      "98\n",
      "Procesando línea: linea_2\n",
      "98\n",
      "Procesando línea: linea_3\n",
      "98\n",
      "Procesando línea: linea_4\n",
      "98\n",
      "Procesando línea: linea_5\n",
      "96\n"
     ]
    }
   ],
   "source": [
    "validacion_aht = []\n",
    "lineas = df[\"linea\"].unique()\n",
    "for linea in lineas:\n",
    "    print(f\"Procesando línea: {linea}\")\n",
    "    val_wfm = promedio_movil_val(df, \"interpolado_real_aht\", linea)\n",
    "    \n",
    "    # Crear un DataFrame de la longitud específica de val_wfm\n",
    "    val_promedio_movil = pd.DataFrame(index=range(len(val_wfm)))\n",
    "    val_promedio_movil[\"val_wfm\"] = val_wfm\n",
    "    val_promedio_movil[\"linea\"] = linea\n",
    "    \n",
    "    validacion_aht.append(val_promedio_movil)"
   ]
  },
  {
   "cell_type": "code",
   "execution_count": 6,
   "metadata": {},
   "outputs": [],
   "source": [
    "validacion_wfm_sht = pd.concat(validacion_aht, ignore_index=True)\n",
    "val_aht = pd.read_excel(\"validacion_diaria_aht.xlsx\").drop(columns='Unnamed: 0')\n",
    "val_aht[\"pred_wfm\"] = validacion_wfm_sht[\"val_wfm\"]"
   ]
  },
  {
   "cell_type": "code",
   "execution_count": 7,
   "metadata": {},
   "outputs": [],
   "source": [
    "val_aht.to_excel(\"validacion_diaria_aht_wfm.xlsx\")\n"
   ]
  }
 ],
 "metadata": {
  "kernelspec": {
   "display_name": "tfm-venv",
   "language": "python",
   "name": "python3"
  },
  "language_info": {
   "codemirror_mode": {
    "name": "ipython",
    "version": 3
   },
   "file_extension": ".py",
   "mimetype": "text/x-python",
   "name": "python",
   "nbconvert_exporter": "python",
   "pygments_lexer": "ipython3",
   "version": "3.11.9"
  }
 },
 "nbformat": 4,
 "nbformat_minor": 2
}
